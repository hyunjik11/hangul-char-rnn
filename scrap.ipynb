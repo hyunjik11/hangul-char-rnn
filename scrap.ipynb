{
 "cells": [
  {
   "cell_type": "code",
   "execution_count": null,
   "metadata": {
    "collapsed": false
   },
   "outputs": [],
   "source": [
    "import ijson\n",
    "import korean\n",
    "from konlpy.utils import pprint\n",
    "filename=\"namuwiki_20160425.json\"\n",
    "#has between 513000 and 514000 entries\n",
    "savefile=\"test.txt\"\n",
    "\n",
    "def inrange(char,unicode_dec):\n",
    "    if unicode_dec[0]<=ord(char)<=unicode_dec[1]:\n",
    "        return True\n",
    "    else:\n",
    "        return False\n",
    "\n",
    "range_valid=[ord(u' '),ord(u'~')]\n",
    "range_letter=[ord(u'ㄱ'),ord(u'ㅣ')]\n",
    "range_syllable=[ord(u'가'),ord(u'힣')]\n",
    "\n",
    "with open(filename,'r') as f:\n",
    "    i=0\n",
    "    final=u''\n",
    "    for item in ijson.items(f,\"item\"):\n",
    "        text=item['text']\n",
    "        for char in text:\n",
    "            if inrange(char,range_syllable):\n",
    "                t=u''.join(korean.hangul.split_char(char))\n",
    "                final+=t\n",
    "            elif inrange(char,range_valid) or inrange(char,range_letter) or char=u'\\n':\n",
    "                final+=char\n",
    "        i+=1\n",
    "        if i==100:\n",
    "            #break\n",
    "        #if i%5140==0:\n",
    "            #save to file and clear buffer final\n",
    "            with open(savefile, \"a\") as f:\n",
    "                f.write(final.encode(\"UTF-8\"))\n",
    "                final=u''\n",
    "            break\n",
    "            #print i/5140,\"% complete\"\n",
    "    \n",
    "    \n",
    "    "
   ]
  },
  {
   "cell_type": "code",
   "execution_count": 51,
   "metadata": {
    "collapsed": false
   },
   "outputs": [
    {
     "data": {
      "text/plain": [
       "True"
      ]
     },
     "execution_count": 51,
     "metadata": {},
     "output_type": "execute_result"
    }
   ],
   "source": [
    "def inrange(x,unicode_dec):\n",
    "    if unicode_dec[0]<=x<=unicode_dec[1]:\n",
    "        return True\n",
    "    else:\n",
    "        return False\n",
    "\n",
    "puncuation=[ord(u' '),ord(u'~')]\n",
    "letter=[ord(u'ㄱ'),ord(u'ㅣ')]\n",
    "syllable=[ord(u'가'),ord(u'힣')]\n",
    "inrange(ord(u'감'),syllable)"
   ]
  },
  {
   "cell_type": "code",
   "execution_count": 47,
   "metadata": {
    "collapsed": false
   },
   "outputs": [
    {
     "ename": "NameError",
     "evalue": "name 'typeof' is not defined",
     "output_type": "error",
     "traceback": [
      "\u001b[0;31m---------------------------------------------------------------------------\u001b[0m",
      "\u001b[0;31mNameError\u001b[0m                                 Traceback (most recent call last)",
      "\u001b[0;32m<ipython-input-47-1708611fbf5c>\u001b[0m in \u001b[0;36m<module>\u001b[0;34m()\u001b[0m\n\u001b[1;32m      3\u001b[0m     \u001b[0mi\u001b[0m\u001b[0;34m=\u001b[0m\u001b[0;36m0\u001b[0m\u001b[0;34m\u001b[0m\u001b[0m\n\u001b[1;32m      4\u001b[0m     \u001b[0;32mfor\u001b[0m \u001b[0mitem\u001b[0m \u001b[0;32min\u001b[0m \u001b[0mijson\u001b[0m\u001b[0;34m.\u001b[0m\u001b[0mitems\u001b[0m\u001b[0;34m(\u001b[0m\u001b[0mf\u001b[0m\u001b[0;34m,\u001b[0m\u001b[0;34m\"item\"\u001b[0m\u001b[0;34m)\u001b[0m\u001b[0;34m:\u001b[0m\u001b[0;34m\u001b[0m\u001b[0m\n\u001b[0;32m----> 5\u001b[0;31m         \u001b[0;32mprint\u001b[0m\u001b[0;34m(\u001b[0m\u001b[0mtypeof\u001b[0m\u001b[0;34m(\u001b[0m\u001b[0mitem\u001b[0m\u001b[0;34m[\u001b[0m\u001b[0;34m'text'\u001b[0m\u001b[0;34m]\u001b[0m\u001b[0;34m)\u001b[0m\u001b[0;34m)\u001b[0m\u001b[0;34m\u001b[0m\u001b[0m\n\u001b[0m\u001b[1;32m      6\u001b[0m         \u001b[0mi\u001b[0m\u001b[0;34m+=\u001b[0m\u001b[0;36m1\u001b[0m\u001b[0;34m\u001b[0m\u001b[0m\n\u001b[1;32m      7\u001b[0m         \u001b[0;32mif\u001b[0m \u001b[0mi\u001b[0m\u001b[0;34m==\u001b[0m\u001b[0;36m2\u001b[0m\u001b[0;34m:\u001b[0m\u001b[0;34m\u001b[0m\u001b[0m\n",
      "\u001b[0;31mNameError\u001b[0m: name 'typeof' is not defined"
     ]
    }
   ],
   "source": [
    "filename=\"namuwiki_20160425.json\"\n",
    "with open(filename,'r') as f:\n",
    "    i=0\n",
    "    for item in ijson.items(f,\"item\"):\n",
    "        print(type(item['text']))\n",
    "        i+=1\n",
    "        if i==2:\n",
    "            break         \n",
    "        "
   ]
  },
  {
   "cell_type": "code",
   "execution_count": 75,
   "metadata": {
    "collapsed": false
   },
   "outputs": [],
   "source": [
    "s = u'\\u5E73\\u621015'\n",
    "with open(\"yop.txt\", \"wb\") as f:\n",
    "   f.write(s.encode(\"UTF-8\"))"
   ]
  },
  {
   "cell_type": "code",
   "execution_count": 45,
   "metadata": {
    "collapsed": false
   },
   "outputs": [],
   "source": [
    "#!/usr/bin/python\n",
    "# -*- coding: utf-8 -*-\n",
    "\n",
    "#  leave same till we have consonant followed by a vowel (c,v).\n",
    "#  In this case add the two into buffer.\n",
    "#  - case 1: next is (c',c'') -> join&output(c,v,c'), and go back to 2.\n",
    "#  - case 2: next is (c,v) -> add u'' to buffer, replace chars in buffer with syllable, add next two to buffer and go back to 3.\n",
    "#  - case 3: next is v -> add u'' to buffer, replace chars in buffer with syllable, leave v same, go back to 3.\n",
    "import codecs\n",
    "import korean\n",
    "\n",
    "filename=\"test.txt\" #file that needs to be post-processed\n",
    "savefile=\"post_test.txt\" #post-processed file\n",
    "\n",
    "def inrange(char,unicode_dec):\n",
    "    if unicode_dec[0]<=ord(char)<=unicode_dec[1]:\n",
    "        return True\n",
    "    else:\n",
    "        return False\n",
    "\n",
    "letter=[ord(u'ㄱ'),ord(u'ㅣ')]\n",
    "consonant=[ord(u'ㄱ'),ord(u'ㅎ')]\n",
    "vowel=[ord(u'ㅏ'),ord(u'ㅣ')]\n",
    "output=u''\n",
    "with codecs.open(filename,encoding='utf-8') as f:\n",
    "    for line in f:\n",
    "        i=0;\n",
    "        while i<len(line)-1:\n",
    "            if inrange(line[i],consonant) and inrange(line[i+1],vowel):\n",
    "                if i==len(line)-2: #line[i+1] is last character\n",
    "                    output+=korean.hangul.join_char((line[i],line[i+1],u''))\n",
    "                    i+=2\n",
    "                elif inrange(line[i+2],consonant):\n",
    "                    if i==len(line)-3: #line[i+2] is last character\n",
    "                        output+=korean.hangul.join_char((line[i],line[i+1],line[i+2]))\n",
    "                        i+=3\n",
    "                    elif inrange(line[i+3],vowel):\n",
    "                        output+=korean.hangul.join_char((line[i],line[i+1],u''))\n",
    "                        i+=2\n",
    "                    else: #line[i+3] a consonant or not a letter\n",
    "                        output+=korean.hangul.join_char((line[i],line[i+1],line[i+2]))\n",
    "                        i+=3\n",
    "                else: #line[i+2] is a vowel or not a letter\n",
    "                    output+=korean.hangul.join_char((line[i],line[i+1],u''))+line[i+2]\n",
    "                    i+=3\n",
    "            else: #search until we get a consonant followed by a vowel\n",
    "                output+=line[i]\n",
    "                i+=1\n",
    "        if i==len(line)-1: #clear up last character - could be new line\n",
    "            output+=line[i]\n",
    "\n",
    "with open(savefile, \"a\") as f:\n",
    "    f.write(output.encode(\"UTF-8\"))"
   ]
  },
  {
   "cell_type": "code",
   "execution_count": 49,
   "metadata": {
    "collapsed": false
   },
   "outputs": [
    {
     "name": "stdout",
     "output_type": "stream",
     "text": [
      "안녕\n",
      "반가워\n"
     ]
    }
   ],
   "source": [
    "#!/usr/bin/python\n",
    "# -*- coding: utf-8 -*-\n",
    "import korean\n",
    "import codecs\n",
    "with codecs.open(\"blah.txt\",encoding='utf-8') as f:\n",
    "    output=u''\n",
    "    for line in f:\n",
    "        for i in range(0,len(line)):\n",
    "            output+=line[i]\n",
    "        #for char in line:\n",
    "        #    output+=char\n",
    "    print(output)"
   ]
  },
  {
   "cell_type": "code",
   "execution_count": 48,
   "metadata": {
    "collapsed": false
   },
   "outputs": [],
   "source": [
    "output=u''\n",
    "output+=korean.hangul.join_char((u'ㄱ',u'ㅏ',u'ㄱ'))\n",
    "with open(\"post_sample\", \"a\") as f:\n",
    "    f.write(output.encode(\"UTF-8\"))"
   ]
  },
  {
   "cell_type": "code",
   "execution_count": 19,
   "metadata": {
    "collapsed": false
   },
   "outputs": [
    {
     "name": "stdout",
     "output_type": "stream",
     "text": [
      "12623\n",
      "12624\n",
      "12625\n",
      "12626\n",
      "12627\n",
      "12628\n",
      "12629\n",
      "12630\n",
      "12631\n",
      "12632\n",
      "12633\n",
      "12634\n",
      "12635\n",
      "12636\n",
      "12637\n",
      "12638\n",
      "12639\n",
      "12640\n",
      "12641\n",
      "12642\n",
      "12643\n"
     ]
    }
   ],
   "source": [
    "#consonants=u'ㄱㄲㄳㄴㄵㄶㄷㄸㄹㄺㄻㄼㄽㄾㄿㅀㅁㅂㅃㅄㅅㅆㅇㅈㅉㅊㅋㅌㅍㅎ';\n",
    "#finals=u'ㄱㄲㄳㄴㄵㄶㄷㄹㄺㄻㄼㄽㄾㄿㅀㅁㅂㅄㅅㅆㅇㅈㅊㅋㅌㅍㅎ'\n",
    "vowels= u'ㅏㅐㅑㅒㅓㅔㅕㅖㅗㅘㅙㅚㅛㅜㅝㅞㅟㅠㅡㅢㅣ'\n",
    "for char in vowels:\n",
    "    print(ord(char))"
   ]
  },
  {
   "cell_type": "code",
   "execution_count": null,
   "metadata": {
    "collapsed": true
   },
   "outputs": [],
   "source": []
  }
 ],
 "metadata": {
  "kernelspec": {
   "display_name": "Python 2",
   "language": "python",
   "name": "python2"
  },
  "language_info": {
   "codemirror_mode": {
    "name": "ipython",
    "version": 2
   },
   "file_extension": ".py",
   "mimetype": "text/x-python",
   "name": "python",
   "nbconvert_exporter": "python",
   "pygments_lexer": "ipython2",
   "version": "2.7.11"
  }
 },
 "nbformat": 4,
 "nbformat_minor": 0
}
